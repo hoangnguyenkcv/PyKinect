{
 "cells": [
  {
   "cell_type": "code",
   "execution_count": 38,
   "metadata": {},
   "outputs": [
    {
     "name": "stdout",
     "output_type": "stream",
     "text": [
      "<class 'pykinect2.PyKinectRuntime.PyKinectRuntime'>\n"
     ]
    }
   ],
   "source": [
    "import cv2\n",
    "from pykinect2 import PyKinectV2\n",
    "from pykinect2 import PyKinectRuntime\n",
    "import numpy as np\n",
    "import datetime"
   ]
  },
  {
   "cell_type": "code",
   "execution_count": 70,
   "metadata": {},
   "outputs": [
    {
     "name": "stdout",
     "output_type": "stream",
     "text": [
      "<class 'pykinect2.PyKinectRuntime.PyKinectRuntime'>\n"
     ]
    }
   ],
   "source": [
    "# Path\n",
    "path = 'D:\\\\DepthKinect'\n",
    "\n",
    "# Initialize Kinect\n",
    "kinect = PyKinectRuntime.PyKinectRuntime(PyKinectV2.FrameSourceTypes_Color | PyKinectV2.FrameSourceTypes_Depth)\n",
    "print(type(kinect))\n",
    "\n",
    "# Get one color picture frame\n",
    "cv2.namedWindow('Color Image', cv2.WINDOW_NORMAL)\n",
    "cv2.resizeWindow('Color Image', int(1920/2), int(1080/2))\n",
    "frame = None\n",
    "cnt = 0\n",
    "fmtname = datetime.datetime.today().strftime(\"%y%m%d_%H%M%S\")\n",
    "while(True):\n",
    "    if (kinect.has_new_color_frame()):\n",
    "        colorFrame = kinect.get_last_color_frame()\n",
    "        colorFrame = colorFrame.reshape((1080,1920,4))\n",
    "        cv2.imshow(\"Color Image\", colorFrame)\n",
    "        \n",
    "    if (kinect.has_new_depth_frame()):\n",
    "        depthFrame = kinect.get_last_depth_frame()\n",
    "        depthFrame = depthFrame.reshape((424,512))\n",
    "        depthImage = depthFrame\n",
    "        depthImage[depthFrame<kinect.get_depth_min_distance()] = 0\n",
    "        depthImage[depthFrame>kinect.get_depth_max_distance()] = 255\n",
    "        depthImage = depthImage.astype(np.uint8)\n",
    "        cv2.imshow(\"Depth Image\", depthImage)\n",
    "    \n",
    "    key = cv2.waitKey(5)\n",
    "    if  key == 27:\n",
    "        break\n",
    "    elif key == ord('C') or key == ord('c'):\n",
    "        (x, y, w, h) = cv2.selectROI('ROI', depthImage, False, False)\n",
    "        cv2.waitKey()\n",
    "        cv2.destroyWindow(\"ROI\")\n",
    "        \n",
    "        roiDepth = depthFrame[int(y):int(y)+int(h),int(x):int(x)+int(w)]\n",
    "        roiImage = roiDepth.astype(np.uint8)\n",
    "        \n",
    "        cnt = cnt + 1\n",
    "        cv2.imwrite('{}\\\\DepthImage_{}_image_{}.png'.format(path, fmtname, cnt), depthImage)\n",
    "        cv2.imwrite('{}\\\\DepthImage_{}_roi_{}_{}_{}_{}_{}.png'.format(path, fmtname, int(x), int(y), int(w), int(h), cnt), roiImage)\n",
    "        scipy.io.savemat('{}\\\\DepthImage_{}_mat_{}.mat'.format(path, fmtname, cnt), dict(depth=depthFrame, roi=roiDepth))\n",
    "        pass\n",
    "cv2.destroyAllWindows()\n",
    "kinect.close()"
   ]
  },
  {
   "cell_type": "code",
   "execution_count": 29,
   "metadata": {},
   "outputs": [],
   "source": [
    "cv2.destroyAllWindows()"
   ]
  }
 ],
 "metadata": {
  "kernelspec": {
   "display_name": "Python 3",
   "language": "python",
   "name": "python3"
  },
  "language_info": {
   "codemirror_mode": {
    "name": "ipython",
    "version": 3
   },
   "file_extension": ".py",
   "mimetype": "text/x-python",
   "name": "python",
   "nbconvert_exporter": "python",
   "pygments_lexer": "ipython3",
   "version": "3.5.4"
  }
 },
 "nbformat": 4,
 "nbformat_minor": 2
}
